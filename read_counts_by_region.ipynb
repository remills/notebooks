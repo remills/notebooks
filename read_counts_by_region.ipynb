{
 "cells": [
  {
   "cell_type": "markdown",
   "metadata": {},
   "source": [
    "In this session, we are going to make practical use of what we just learned to explore a region of the genome, the RHD locus, which is responsible for the Rh antigen that can have an adverse effect during some pregnancies. This gene is located at chr1:25598977-25656936 in the hg19 version of the human genome reference sequence."
   ]
  },
  {
   "cell_type": "markdown",
   "metadata": {},
   "source": [
    "As with yesterday, set up imported packages and specific file locations"
   ]
  },
  {
   "cell_type": "code",
   "execution_count": 2,
   "metadata": {
    "collapsed": true
   },
   "outputs": [],
   "source": [
    "%matplotlib inline\n",
    "import matplotlib\n",
    "import matplotlib.pyplot as plt\n",
    "import numpy as np\n",
    "import subprocess\n",
    "import re\n",
    "from pylab import plot,show\n",
    "from scipy import stats\n",
    "import os\n",
    "\n",
    "baseDir='/scratch/biobootcamp_fluxod/remills/day4/read_counts_by_region'\n",
    "\n",
    "fnSampleInfo = '%s/%s'%( baseDir, 'sample_info.txt' )\n",
    "fnSampleList = '%s/%s'%( baseDir, 'sample_names.txt' )\n",
    "\n",
    "#define region of interest\n",
    "chromo = \"1\"\n",
    "startPos = 25598977\n",
    "endPos = 25656936\n",
    "region = \"1:25598977-25656936\" #format needed for calling samtools"
   ]
  },
  {
   "cell_type": "markdown",
   "metadata": {},
   "source": [
    "Let's take a quick look at the sample info file to check it's format"
   ]
  },
  {
   "cell_type": "code",
   "execution_count": 3,
   "metadata": {
    "collapsed": false
   },
   "outputs": [
    {
     "data": {
      "text/plain": [
       "['Sample',\n",
       " 'Family ID',\n",
       " 'Population',\n",
       " 'Population Description',\n",
       " 'Gender',\n",
       " 'File Path']"
      ]
     },
     "execution_count": 3,
     "metadata": {},
     "output_type": "execute_result"
    }
   ],
   "source": [
    "fileSampleInfo = open(fnSampleInfo,'r')\n",
    "line = fileSampleInfo.readline()\n",
    "fileSampleInfo.close()\n",
    "\n",
    "line = line.rstrip()\n",
    "line = line.split('\\t')\n",
    "line"
   ]
  },
  {
   "cell_type": "markdown",
   "metadata": {},
   "source": [
    "Notice that this file is different from the one we used yesterday. It now includes an additional column, 'File Path', which gives an absolute location to the alignment file for each respective sample. As with yesterday, let's define a function to read through the file line by line and store the data for each sample and its file location into a dictionary"
   ]
  },
  {
   "cell_type": "code",
   "execution_count": 4,
   "metadata": {
    "collapsed": true
   },
   "outputs": [],
   "source": [
    "def parseSampleTable( filename ):\n",
    "    fileSampTable = open(filename,'r')\n",
    "    \n",
    "    # skip past the file header\n",
    "    fileSampTable.readline()\n",
    "\n",
    "    samplePath={}\n",
    "    \n",
    "    # go line by line\n",
    "    for line in fileSampTable:\n",
    "        line = line.rstrip().split('\\t')\n",
    "        samplePath[ line[0] ] = line[5]\n",
    "    \n",
    "    return samplePath"
   ]
  },
  {
   "cell_type": "markdown",
   "metadata": {},
   "source": [
    "Note how this function is almost identical to what we used yesterday. Reusing code is not only efficient but is recommended!"
   ]
  },
  {
   "cell_type": "code",
   "execution_count": 5,
   "metadata": {
    "collapsed": false
   },
   "outputs": [],
   "source": [
    "samplePath = parseSampleTable( fnSampleInfo )"
   ]
  },
  {
   "cell_type": "code",
   "execution_count": 6,
   "metadata": {
    "collapsed": false
   },
   "outputs": [
    {
     "data": {
      "text/plain": [
       "'/scratch/data/1000genome/1000genomes/HG00112/alignment/HG00112.mapped.ILLUMINA.bwa.GBR.low_coverage.20120522.bam'"
      ]
     },
     "execution_count": 6,
     "metadata": {},
     "output_type": "execute_result"
    }
   ],
   "source": [
    "#example\n",
    "sample = \"HG00112\"\n",
    "samplePath[sample]"
   ]
  },
  {
   "cell_type": "markdown",
   "metadata": {},
   "source": [
    "Our goal now is to count the sequence reads at the RHD locus from each file and compare them.  We can do this using the *samtools* command we learned yesterday combined with the unix command *wc -l* which will count the number of lines printed to thes screen. We can call this program from within python using the *subprocess.call()* function"
   ]
  },
  {
   "cell_type": "code",
   "execution_count": 7,
   "metadata": {
    "collapsed": false,
    "scrolled": true
   },
   "outputs": [
    {
     "name": "stdout",
     "output_type": "stream",
     "text": [
      "samtools view /scratch/data/1000genome/1000genomes/HG00112/alignment/HG00112.mapped.ILLUMINA.bwa.GBR.low_coverage.20120522.bam 1:25598977-25656936 | wc -l > HG00112.cnt\n"
     ]
    },
    {
     "data": {
      "text/plain": [
       "0"
      ]
     },
     "execution_count": 7,
     "metadata": {},
     "output_type": "execute_result"
    }
   ],
   "source": [
    "#construct command as if we would be running it from the command line. \n",
    "command = \"samtools view \" + samplePath[sample] + \" \" + region + \" | wc -l > \" + sample + \".cnt\"\n",
    "print command\n",
    "subprocess.call(command, shell=True)"
   ]
  },
  {
   "cell_type": "markdown",
   "metadata": {},
   "source": [
    "Each individual genome may be sequenced to different depths of coverage, leading to differences in read counts being a reflection of that depth rather than a true difference in sequence content. Thus, it would make sense to normalize by the total number of reads generated either for the whole genome or, as we will do here, for the chromosome of interest."
   ]
  },
  {
   "cell_type": "code",
   "execution_count": 8,
   "metadata": {
    "collapsed": false
   },
   "outputs": [
    {
     "name": "stdout",
     "output_type": "stream",
     "text": [
      "samtools idxstats /scratch/data/1000genome/1000genomes/HG00112/alignment/HG00112.mapped.ILLUMINA.bwa.GBR.low_coverage.20120522.bam | head -1 |cut -f 3 > HG00112.num\n"
     ]
    },
    {
     "data": {
      "text/plain": [
       "0"
      ]
     },
     "execution_count": 8,
     "metadata": {},
     "output_type": "execute_result"
    }
   ],
   "source": [
    "#Only need data for chromosome 1, so 'head -1' returns only the first line of the output that corresponds to chromo 1\n",
    "#Number of aligned reads is in column 3, so we can 'cut' this column out and be left with only a single data point\n",
    "command = \"samtools idxstats \" + samplePath[sample] + \" | head -1 |cut -f 3 > \" + sample + \".num\"\n",
    "print command\n",
    "subprocess.call(command, shell=True)"
   ]
  },
  {
   "cell_type": "markdown",
   "metadata": {},
   "source": [
    "However, with over 2500 sequences it would be inefficient (and boring!) to do all of them manually in this fashion. We could make use of cluster computing to run all 2500 simultaneously, however this would result in 2500 individual jobs that would need to be submitted, managed, and reviewed.\n",
    "\n",
    "Instead, we can *batch* samples into smaller collections and send each batch as its own job. To do this, we will need to determine both **(a)** the number of batches we wish to submit and **(b)** the number of samples to include in each batch. For this exercise, we will construct batches of n=50."
   ]
  },
  {
   "cell_type": "code",
   "execution_count": 9,
   "metadata": {
    "collapsed": false
   },
   "outputs": [
    {
     "name": "stdout",
     "output_type": "stream",
     "text": [
      "2535\n",
      "51\n"
     ]
    }
   ],
   "source": [
    "numBatches = 50\n",
    "#length of dictionary = number of samples here, can be calculated with len(dict)\n",
    "numSamplesPerBatch = int(len(samplePath) / numBatches) + 1; #add one to round up if needed\n",
    "\n",
    "#create a directory to store all the files\n",
    "if not os.path.exists(baseDir + \"/counts\"):\n",
    "    os.makedirs(baseDir + \"/counts\")\n",
    "\n",
    "#create a directory to store PBS files\n",
    "if not os.path.exists(baseDir + \"/jobs\"):\n",
    "    os.makedirs(baseDir + \"/jobs\") \n",
    "\n",
    "#create a directory to store stdout and stderr files\n",
    "if not os.path.exists(baseDir + \"/logs\"):\n",
    "    os.makedirs(baseDir + \"/logs\")  \n",
    "\n",
    "print len(samplePath)\n",
    "print numSamplesPerBatch"
   ]
  },
  {
   "cell_type": "markdown",
   "metadata": {},
   "source": [
    "Then, we can use python to create individual PBS files for each batch and subsequently submit them to the cluster."
   ]
  },
  {
   "cell_type": "code",
   "execution_count": 58,
   "metadata": {
    "collapsed": false
   },
   "outputs": [],
   "source": [
    "lastSampleNum = 0;\n",
    "samples = samplePath.keys()\n",
    "\n",
    "for batchNum in range (numBatches): #for each batch we plan to run\n",
    "\n",
    "    #create new PBS file for submission, with corresponding header\n",
    "    fileBatch = open(baseDir+\"/jobs/batch\"+str(batchNum)+\".pbs\", \"w\")\n",
    "    fileBatch.write(\"#!/bin/bash\\n\") #shell line\n",
    "    fileBatch.write(\"#\\n\")\n",
    "    fileBatch.write(\"#PBS -N batch\" + str(batchNum) + \"\\n\") #name of job\n",
    "    fileBatch.write(\"#PBS -o \" + baseDir + \"/logs/batch\" + str(batchNum) + \".stdout\\n\") #stdout file\n",
    "    fileBatch.write(\"#PBS -e \" + baseDir + \"/logs/batch\" + str(batchNum) + \".stderr\\n\") #stderr file\n",
    "    fileBatch.write(\"#PBS -l procs=1,qos=flux,mem=4gb,walltime=24:00:00\\n\") #feature line\n",
    "    fileBatch.write(\"#PBS -m a\\n\") #message line, only send errors to email\n",
    "    fileBatch.write(\"#PBS -M remills@umich.edu\\n\") #email line, to send messages from above\n",
    "    fileBatch.write(\"#PBS -A biobootcamp_fluxod\\n\") #which account to associate job\n",
    "    fileBatch.write(\"#PBS -q fluxod\\n\") #which queue to send job to \n",
    "    fileBatch.write(\"#PBS -V\\n\") #pass environmental variables to job\n",
    "    fileBatch.write(\"#PBS -d .\\n\") #use current working directory\n",
    "    fileBatch.write(\"\\n\") #use current working directory\n",
    "    \n",
    "    startIndex = lastSampleNum\n",
    "    endIndex = lastSampleNum + numSamplesPerBatch\n",
    "    \n",
    "    #make sure last index is in range, in case batches aren't divided evenly\n",
    "    if endIndex > len(samplePath): \n",
    "        endIndex = len(samplePath)\n",
    "        \n",
    "    for sampleNum in range (startIndex, endIndex):\n",
    "        sample = samples[sampleNum] #current sample\n",
    "        #write command for region counts\n",
    "        command = \"samtools view \" + samplePath[sample] + \" \" + region + \" | wc -l > \" + baseDir + \"/counts/\" + sample + \".cnt\"\n",
    "        fileBatch.write(command+\"\\n\")\n",
    "        #write command for chromosome counts\n",
    "        command = \"samtools idxstats \" + samplePath[sample] + \" | head -1 | cut -f 3 > \" + baseDir + \"/counts/\" + sample + \".num\"\n",
    "        fileBatch.write(command+\"\\n\")\n",
    "    fileBatch.close()\n",
    "    \n",
    "    #submit job to cluster\n",
    "    #subprocess.call([\"qsub\", baseDir+\"/jobs/batch\"+str(batchNum)+\".pbs\"]) \n",
    "    \n",
    "    #update index for next iteration\n",
    "    lastSampleNum = lastSampleNum + numSamplesPerBatch\n"
   ]
  },
  {
   "cell_type": "markdown",
   "metadata": {},
   "source": [
    "Now we must wait for the jobs to finish. There are python modules which will check and sleep until all jobs are finalized. For simplicity, we can just manually check with the *qstat* command you were introduced to earlier (use your unique name instead of mine!)."
   ]
  },
  {
   "cell_type": "code",
   "execution_count": 60,
   "metadata": {
    "collapsed": false,
    "scrolled": true
   },
   "outputs": [
    {
     "name": "stdout",
     "output_type": "stream",
     "text": [
      "\r\n",
      "nyx.arc-ts.umich.edu: \r\n",
      "                                                                                  Req'd    Req'd       Elap\r\n",
      "Job ID                  Username    Queue    Jobname          SessID  NDS   TSK   Memory   Time    S   Time\r\n",
      "----------------------- ----------- -------- ---------------- ------ ----- ------ ------ --------- - ---------\r\n",
      "16694971.nyx.arc-ts.um  remills     fluxod   batch0             9026   --       1  768mb  24:00:00 C       -- \r\n",
      "16694983.nyx.arc-ts.um  remills     fluxod   batch0             9500   --       1  768mb  24:00:00 C       -- \r\n",
      "16694993.nyx.arc-ts.um  remills     fluxod   batch1             9838   --       1  768mb  24:00:00 C       -- \r\n",
      "16695026.nyx.arc-ts.um  remills     fluxod   batch1            10286   --       1  768mb  24:00:00 C       -- \r\n",
      "16695046.nyx.arc-ts.um  remills     fluxod   batch0            10649   --       1  768mb  24:00:00 C       -- \r\n",
      "16695047.nyx.arc-ts.um  remills     fluxod   batch0            11065   --       1  768mb  24:00:00 C       -- \r\n",
      "16695057.nyx.arc-ts.um  remills     fluxod   batch0            11386   --       1  768mb  24:00:00 C       -- \r\n",
      "16695058.nyx.arc-ts.um  remills     fluxod   batch1             9771   --       1  768mb  24:00:00 C       -- \r\n",
      "16695059.nyx.arc-ts.um  remills     fluxod   batch2             9777   --       1  768mb  24:00:00 C       -- \r\n",
      "16695060.nyx.arc-ts.um  remills     fluxod   batch3            17546   --       1  768mb  24:00:00 C       -- \r\n",
      "16695061.nyx.arc-ts.um  remills     fluxod   batch4            17552   --       1  768mb  24:00:00 C       -- \r\n",
      "16695062.nyx.arc-ts.um  remills     fluxod   batch5            30238   --       1  768mb  24:00:00 C       -- \r\n",
      "16695063.nyx.arc-ts.um  remills     fluxod   batch6            30243   --       1  768mb  24:00:00 C       -- \r\n",
      "16695064.nyx.arc-ts.um  remills     fluxod   batch7             9291   --       1  768mb  24:00:00 C       -- \r\n",
      "16695065.nyx.arc-ts.um  remills     fluxod   batch8             9296   --       1  768mb  24:00:00 C       -- \r\n",
      "16695066.nyx.arc-ts.um  remills     fluxod   batch9            32503   --       1  768mb  24:00:00 C       -- \r\n",
      "16695067.nyx.arc-ts.um  remills     fluxod   batch10           32507   --       1  768mb  24:00:00 C       -- \r\n",
      "16695068.nyx.arc-ts.um  remills     fluxod   batch11           26182   --       1  768mb  24:00:00 C       -- \r\n",
      "16695069.nyx.arc-ts.um  remills     fluxod   batch12           26187   --       1  768mb  24:00:00 C       -- \r\n",
      "16695070.nyx.arc-ts.um  remills     fluxod   batch13           32616   --       1  768mb  24:00:00 C       -- \r\n",
      "16695071.nyx.arc-ts.um  remills     fluxod   batch14           32621   --       1  768mb  24:00:00 C       -- \r\n",
      "16695072.nyx.arc-ts.um  remills     fluxod   batch15           17023   --       1  768mb  24:00:00 C       -- \r\n",
      "16695073.nyx.arc-ts.um  remills     fluxod   batch16           17027   --       1  768mb  24:00:00 C       -- \r\n",
      "16695074.nyx.arc-ts.um  remills     fluxod   batch17            8517   --       1  768mb  24:00:00 C       -- \r\n",
      "16695075.nyx.arc-ts.um  remills     fluxod   batch18            8522   --       1  768mb  24:00:00 C       -- \r\n",
      "16695076.nyx.arc-ts.um  remills     fluxod   batch19           15911   --       1  768mb  24:00:00 C       -- \r\n",
      "16695077.nyx.arc-ts.um  remills     fluxod   batch20           11683   --       1  768mb  24:00:00 C       -- \r\n",
      "16695078.nyx.arc-ts.um  remills     fluxod   batch21           10360   --       1  768mb  24:00:00 C       -- \r\n",
      "16695079.nyx.arc-ts.um  remills     fluxod   batch22           10380   --       1  768mb  24:00:00 C       -- \r\n",
      "16695080.nyx.arc-ts.um  remills     fluxod   batch23           18136   --       1  768mb  24:00:00 C       -- \r\n",
      "16695081.nyx.arc-ts.um  remills     fluxod   batch24           18156   --       1  768mb  24:00:00 C       -- \r\n",
      "16695082.nyx.arc-ts.um  remills     fluxod   batch25           30828   --       1  768mb  24:00:00 C       -- \r\n",
      "16695083.nyx.arc-ts.um  remills     fluxod   batch26           30848   --       1  768mb  24:00:00 C       -- \r\n",
      "16695084.nyx.arc-ts.um  remills     fluxod   batch27            9976   --       1  768mb  24:00:00 C       -- \r\n",
      "16695085.nyx.arc-ts.um  remills     fluxod   batch28            9996   --       1  768mb  24:00:00 C       -- \r\n",
      "16695086.nyx.arc-ts.um  remills     fluxod   batch29             636   --       1  768mb  24:00:00 C       -- \r\n",
      "16695087.nyx.arc-ts.um  remills     fluxod   batch30             656   --       1  768mb  24:00:00 C       -- \r\n",
      "16695088.nyx.arc-ts.um  remills     fluxod   batch31           26772   --       1  768mb  24:00:00 C       -- \r\n",
      "16695089.nyx.arc-ts.um  remills     fluxod   batch32           26792   --       1  768mb  24:00:00 C       -- \r\n",
      "16695090.nyx.arc-ts.um  remills     fluxod   batch33             751   --       1  768mb  24:00:00 C       -- \r\n",
      "16695091.nyx.arc-ts.um  remills     fluxod   batch34             771   --       1  768mb  24:00:00 C       -- \r\n",
      "16695092.nyx.arc-ts.um  remills     fluxod   batch35           17615   --       1  768mb  24:00:00 C       -- \r\n",
      "16695093.nyx.arc-ts.um  remills     fluxod   batch36           17635   --       1  768mb  24:00:00 C       -- \r\n",
      "16695094.nyx.arc-ts.um  remills     fluxod   batch37            9123   --       1  768mb  24:00:00 C       -- \r\n",
      "16695095.nyx.arc-ts.um  remills     fluxod   batch38            9143   --       1  768mb  24:00:00 C       -- \r\n",
      "16695096.nyx.arc-ts.um  remills     fluxod   batch39           16218   --       1  768mb  24:00:00 C       -- \r\n",
      "16695097.nyx.arc-ts.um  remills     fluxod   batch40           12085   --       1  768mb  24:00:00 C       -- \r\n",
      "16695098.nyx.arc-ts.um  remills     fluxod   batch41           10946   --       1  768mb  24:00:00 C       -- \r\n",
      "16695099.nyx.arc-ts.um  remills     fluxod   batch42           10960   --       1  768mb  24:00:00 C       -- \r\n",
      "16695100.nyx.arc-ts.um  remills     fluxod   batch43           18818   --       1  768mb  24:00:00 C       -- \r\n",
      "16695101.nyx.arc-ts.um  remills     fluxod   batch44           18838   --       1  768mb  24:00:00 C       -- \r\n",
      "16695102.nyx.arc-ts.um  remills     fluxod   batch45           31414   --       1  768mb  24:00:00 C       -- \r\n",
      "16695103.nyx.arc-ts.um  remills     fluxod   batch46           31434   --       1  768mb  24:00:00 C       -- \r\n",
      "16695104.nyx.arc-ts.um  remills     fluxod   batch47           10562   --       1  768mb  24:00:00 C       -- \r\n",
      "16695105.nyx.arc-ts.um  remills     fluxod   batch48           10582   --       1  768mb  24:00:00 C       -- \r\n",
      "16695106.nyx.arc-ts.um  remills     fluxod   batch49            1269   --       1  768mb  24:00:00 C       -- \r\n"
     ]
    }
   ],
   "source": [
    "!qstat -u remills"
   ]
  },
  {
   "cell_type": "markdown",
   "metadata": {},
   "source": [
    "This might take a few minutes to run. Once completed, we should take the time to do some quick checks of the stderr files to make sure that there were not  issues with any particular batch. This can be as simple as a quick *cat* of all the stderr files to see if anything is there. The lack of errors sent to your email address is also a sign that things went well."
   ]
  },
  {
   "cell_type": "code",
   "execution_count": 8,
   "metadata": {
    "collapsed": false
   },
   "outputs": [
    {
     "name": "stdout",
     "output_type": "stream",
     "text": [
      "Note well:\n",
      "\n",
      "loading openmpi/1.6.0/gcc/4.4.6 and gcc/4.4.6 for Rmpi/snow\n",
      "\n",
      "Note well:\n",
      "\n",
      "loading openmpi/1.6.0/gcc/4.4.6 and gcc/4.4.6 for Rmpi/snow\n",
      "\n",
      "Note well:\n",
      "\n",
      "loading openmpi/1.6.0/gcc/4.4.6 and gcc/4.4.6 for Rmpi/snow\n",
      "\n",
      "Note well:\n",
      "\n",
      "loading openmpi/1.6.0/gcc/4.4.6 and gcc/4.4.6 for Rmpi/snow\n",
      "\n",
      "Note well:\n",
      "\n",
      "loading openmpi/1.6.0/gcc/4.4.6 and gcc/4.4.6 for Rmpi/snow\n",
      "\n",
      "Note well:\n",
      "\n",
      "loading openmpi/1.6.0/gcc/4.4.6 and gcc/4.4.6 for Rmpi/snow\n",
      "\n",
      "Note well:\n",
      "\n",
      "loading openmpi/1.6.0/gcc/4.4.6 and gcc/4.4.6 for Rmpi/snow\n",
      "\n",
      "Note well:\n",
      "\n",
      "loading openmpi/1.6.0/gcc/4.4.6 and gcc/4.4.6 for Rmpi/snow\n",
      "\n",
      "Note well:\n",
      "\n",
      "loading openmpi/1.6.0/gcc/4.4.6 and gcc/4.4.6 for Rmpi/snow\n",
      "\n",
      "Note well:\n",
      "\n",
      "loading openmpi/1.6.0/gcc/4.4.6 and gcc/4.4.6 for Rmpi/snow\n",
      "\n",
      "Note well:\n",
      "\n",
      "loading openmpi/1.6.0/gcc/4.4.6 and gcc/4.4.6 for Rmpi/snow\n",
      "\n",
      "Note well:\n",
      "\n",
      "loading openmpi/1.6.0/gcc/4.4.6 and gcc/4.4.6 for Rmpi/snow\n",
      "\n",
      "Note well:\n",
      "\n",
      "loading openmpi/1.6.0/gcc/4.4.6 and gcc/4.4.6 for Rmpi/snow\n",
      "\n",
      "Note well:\n",
      "\n",
      "loading openmpi/1.6.0/gcc/4.4.6 and gcc/4.4.6 for Rmpi/snow\n",
      "\n",
      "Note well:\n",
      "\n",
      "loading openmpi/1.6.0/gcc/4.4.6 and gcc/4.4.6 for Rmpi/snow\n",
      "\n",
      "Note well:\n",
      "\n",
      "loading openmpi/1.6.0/gcc/4.4.6 and gcc/4.4.6 for Rmpi/snow\n",
      "\n",
      "Note well:\n",
      "\n",
      "loading openmpi/1.6.0/gcc/4.4.6 and gcc/4.4.6 for Rmpi/snow\n",
      "\n",
      "Note well:\n",
      "\n",
      "loading openmpi/1.6.0/gcc/4.4.6 and gcc/4.4.6 for Rmpi/snow\n",
      "\n",
      "Note well:\n",
      "\n",
      "loading openmpi/1.6.0/gcc/4.4.6 and gcc/4.4.6 for Rmpi/snow\n",
      "\n",
      "Note well:\n",
      "\n",
      "loading openmpi/1.6.0/gcc/4.4.6 and gcc/4.4.6 for Rmpi/snow\n",
      "\n",
      "Note well:\n",
      "\n",
      "loading openmpi/1.6.0/gcc/4.4.6 and gcc/4.4.6 for Rmpi/snow\n",
      "\n",
      "Note well:\n",
      "\n",
      "loading openmpi/1.6.0/gcc/4.4.6 and gcc/4.4.6 for Rmpi/snow\n",
      "\n",
      "Note well:\n",
      "\n",
      "loading openmpi/1.6.0/gcc/4.4.6 and gcc/4.4.6 for Rmpi/snow\n",
      "\n",
      "Note well:\n",
      "\n",
      "loading openmpi/1.6.0/gcc/4.4.6 and gcc/4.4.6 for Rmpi/snow\n",
      "\n",
      "Note well:\n",
      "\n",
      "loading openmpi/1.6.0/gcc/4.4.6 and gcc/4.4.6 for Rmpi/snow\n",
      "\n",
      "Note well:\n",
      "\n",
      "loading openmpi/1.6.0/gcc/4.4.6 and gcc/4.4.6 for Rmpi/snow\n",
      "\n",
      "Note well:\n",
      "\n",
      "loading openmpi/1.6.0/gcc/4.4.6 and gcc/4.4.6 for Rmpi/snow\n",
      "\n",
      "Note well:\n",
      "\n",
      "loading openmpi/1.6.0/gcc/4.4.6 and gcc/4.4.6 for Rmpi/snow\n",
      "\n",
      "Note well:\n",
      "\n",
      "loading openmpi/1.6.0/gcc/4.4.6 and gcc/4.4.6 for Rmpi/snow\n",
      "\n",
      "Note well:\n",
      "\n",
      "loading openmpi/1.6.0/gcc/4.4.6 and gcc/4.4.6 for Rmpi/snow\n",
      "\n",
      "Note well:\n",
      "\n",
      "loading openmpi/1.6.0/gcc/4.4.6 and gcc/4.4.6 for Rmpi/snow\n",
      "\n",
      "Note well:\n",
      "\n",
      "loading openmpi/1.6.0/gcc/4.4.6 and gcc/4.4.6 for Rmpi/snow\n",
      "\n",
      "Note well:\n",
      "\n",
      "loading openmpi/1.6.0/gcc/4.4.6 and gcc/4.4.6 for Rmpi/snow\n",
      "\n",
      "Note well:\n",
      "\n",
      "loading openmpi/1.6.0/gcc/4.4.6 and gcc/4.4.6 for Rmpi/snow\n",
      "\n",
      "Note well:\n",
      "\n",
      "loading openmpi/1.6.0/gcc/4.4.6 and gcc/4.4.6 for Rmpi/snow\n",
      "\n",
      "Note well:\n",
      "\n",
      "loading openmpi/1.6.0/gcc/4.4.6 and gcc/4.4.6 for Rmpi/snow\n",
      "\n",
      "Note well:\n",
      "\n",
      "loading openmpi/1.6.0/gcc/4.4.6 and gcc/4.4.6 for Rmpi/snow\n",
      "\n",
      "Note well:\n",
      "\n",
      "loading openmpi/1.6.0/gcc/4.4.6 and gcc/4.4.6 for Rmpi/snow\n",
      "\n",
      "Note well:\n",
      "\n",
      "loading openmpi/1.6.0/gcc/4.4.6 and gcc/4.4.6 for Rmpi/snow\n",
      "\n",
      "Note well:\n",
      "\n",
      "loading openmpi/1.6.0/gcc/4.4.6 and gcc/4.4.6 for Rmpi/snow\n",
      "\n",
      "Note well:\n",
      "\n",
      "loading openmpi/1.6.0/gcc/4.4.6 and gcc/4.4.6 for Rmpi/snow\n",
      "\n",
      "Note well:\n",
      "\n",
      "loading openmpi/1.6.0/gcc/4.4.6 and gcc/4.4.6 for Rmpi/snow\n",
      "\n",
      "Note well:\n",
      "\n",
      "loading openmpi/1.6.0/gcc/4.4.6 and gcc/4.4.6 for Rmpi/snow\n",
      "\n",
      "Note well:\n",
      "\n",
      "loading openmpi/1.6.0/gcc/4.4.6 and gcc/4.4.6 for Rmpi/snow\n",
      "\n",
      "Note well:\n",
      "\n",
      "loading openmpi/1.6.0/gcc/4.4.6 and gcc/4.4.6 for Rmpi/snow\n",
      "\n",
      "Note well:\n",
      "\n",
      "loading openmpi/1.6.0/gcc/4.4.6 and gcc/4.4.6 for Rmpi/snow\n",
      "\n",
      "Note well:\n",
      "\n",
      "loading openmpi/1.6.0/gcc/4.4.6 and gcc/4.4.6 for Rmpi/snow\n",
      "\n",
      "Note well:\n",
      "\n",
      "loading openmpi/1.6.0/gcc/4.4.6 and gcc/4.4.6 for Rmpi/snow\n",
      "\n",
      "Note well:\n",
      "\n",
      "loading openmpi/1.6.0/gcc/4.4.6 and gcc/4.4.6 for Rmpi/snow\n",
      "\n",
      "Note well:\n",
      "\n",
      "loading openmpi/1.6.0/gcc/4.4.6 and gcc/4.4.6 for Rmpi/snow\n",
      "\n"
     ]
    }
   ],
   "source": [
    "!cat {baseDir}/logs/*stderr"
   ]
  },
  {
   "cell_type": "markdown",
   "metadata": {},
   "source": [
    "Now, we can use python to read back in all the output files and construct a normalized list of sequence counts"
   ]
  },
  {
   "cell_type": "code",
   "execution_count": 21,
   "metadata": {
    "collapsed": false
   },
   "outputs": [],
   "source": [
    "samples = samplePath.keys()\n",
    "rhdList = []\n",
    "for sample in samples:\n",
    "    #rhd counts\n",
    "    cntFile = open(baseDir + \"/counts/\" + sample + \".cnt\", \"r\")\n",
    "    cnt = cntFile.readline()\n",
    "    cnt = float(cnt.rstrip()) #float is important, otherwise will treat as STR or INT\n",
    "    cntFile.close()\n",
    "    \n",
    "    #chromo 1 counts\n",
    "    numFile = open(baseDir + \"/counts/\" + sample + \".num\", \"r\")\n",
    "    num = numFile.readline()\n",
    "    num = float(num.rstrip())\n",
    "    numFile.close()\n",
    "    \n",
    "    normCnt = cnt / num\n",
    "    rhdList.append(normCnt)\n"
   ]
  },
  {
   "cell_type": "code",
   "execution_count": 22,
   "metadata": {
    "collapsed": false
   },
   "outputs": [
    {
     "data": {
      "image/png": "[encoded data removed]",
      "text/plain": [
       "<matplotlib.figure.Figure at 0x2aeb5a5bdcd0>"
      ]
     },
     "metadata": {},
     "output_type": "display_data"
    }
   ],
   "source": [
    "plt.hist(rhdList, bins=100)\n",
    "plt.title(\"RHD Locus Read Counts\")\n",
    "plt.xlabel(\"Sequence Read Counts\")\n",
    "plt.ylabel(\"Frequency\")\n",
    "plt.show()"
   ]
  },
  {
   "cell_type": "code",
   "execution_count": null,
   "metadata": {
    "collapsed": true
   },
   "outputs": [],
   "source": []
  }
 ],
 "metadata": {
  "kernelspec": {
   "display_name": "Python 2",
   "language": "python",
   "name": "python2"
  },
  "language_info": {
   "codemirror_mode": {
    "name": "ipython",
    "version": 2
   },
   "file_extension": ".py",
   "mimetype": "text/x-python",
   "name": "python",
   "nbconvert_exporter": "python",
   "pygments_lexer": "ipython2",
   "version": "2.7.10"
  }
 },
 "nbformat": 4,
 "nbformat_minor": 0
}
